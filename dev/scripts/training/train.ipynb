{
 "cells": [
  {
   "cell_type": "code",
   "execution_count": 6,
   "metadata": {},
   "outputs": [],
   "source": [
    "import pandas as pd\n",
    "from xgboost import XGBRegressor\n",
    "from sklearn.metrics import mean_absolute_error\n",
    "from sklearn.metrics import mean_squared_error"
   ]
  },
  {
   "cell_type": "code",
   "execution_count": 7,
   "metadata": {},
   "outputs": [],
   "source": [
    "train = pd.read_parquet(\"../../data/processed_data/train.parquet\")\n",
    "cross_val = pd.read_parquet(\"../../data/processed_data/cross_val.parquet\")"
   ]
  },
  {
   "cell_type": "code",
   "execution_count": 9,
   "metadata": {},
   "outputs": [
    {
     "data": {
      "text/plain": [
       "(29995, 26)"
      ]
     },
     "execution_count": 9,
     "metadata": {},
     "output_type": "execute_result"
    }
   ],
   "source": [
    "train.shape"
   ]
  },
  {
   "cell_type": "code",
   "execution_count": 13,
   "metadata": {},
   "outputs": [
    {
     "data": {
      "text/html": [
       "<div>\n",
       "<style scoped>\n",
       "    .dataframe tbody tr th:only-of-type {\n",
       "        vertical-align: middle;\n",
       "    }\n",
       "\n",
       "    .dataframe tbody tr th {\n",
       "        vertical-align: top;\n",
       "    }\n",
       "\n",
       "    .dataframe thead th {\n",
       "        text-align: right;\n",
       "    }\n",
       "</style>\n",
       "<table border=\"1\" class=\"dataframe\">\n",
       "  <thead>\n",
       "    <tr style=\"text-align: right;\">\n",
       "      <th></th>\n",
       "      <th>is_weekday</th>\n",
       "      <th>year</th>\n",
       "      <th>month</th>\n",
       "      <th>category_trending_videos_last_7D</th>\n",
       "      <th>category_avg_n_views_7D</th>\n",
       "      <th>category_avg_n_comments_7D</th>\n",
       "      <th>category_view_like_ratio_7D</th>\n",
       "      <th>channel_trending_videos_last_7D</th>\n",
       "      <th>log_channel_avg_n_views_7D</th>\n",
       "      <th>log_channel_avg_n_comments_7D</th>\n",
       "      <th>...</th>\n",
       "      <th>category_Film&amp;Animation</th>\n",
       "      <th>category_Gaming</th>\n",
       "      <th>category_Howto&amp;Style</th>\n",
       "      <th>category_Music</th>\n",
       "      <th>category_News&amp;Politics</th>\n",
       "      <th>category_People&amp;Blogs</th>\n",
       "      <th>category_Pets&amp;Animals</th>\n",
       "      <th>category_Science&amp;Technology</th>\n",
       "      <th>category_Sports</th>\n",
       "      <th>category_Travel&amp;Events</th>\n",
       "    </tr>\n",
       "  </thead>\n",
       "  <tbody>\n",
       "    <tr>\n",
       "      <th>0</th>\n",
       "      <td>1</td>\n",
       "      <td>2022</td>\n",
       "      <td>12</td>\n",
       "      <td>334.0</td>\n",
       "      <td>0.285048</td>\n",
       "      <td>3509.302395</td>\n",
       "      <td>30.551824</td>\n",
       "      <td>1.0</td>\n",
       "      <td>14.207982</td>\n",
       "      <td>8.616314</td>\n",
       "      <td>...</td>\n",
       "      <td>0.0</td>\n",
       "      <td>0.0</td>\n",
       "      <td>0.0</td>\n",
       "      <td>0.0</td>\n",
       "      <td>0.0</td>\n",
       "      <td>0.0</td>\n",
       "      <td>0.0</td>\n",
       "      <td>0.0</td>\n",
       "      <td>0.0</td>\n",
       "      <td>0.0</td>\n",
       "    </tr>\n",
       "    <tr>\n",
       "      <th>1</th>\n",
       "      <td>1</td>\n",
       "      <td>2022</td>\n",
       "      <td>12</td>\n",
       "      <td>334.0</td>\n",
       "      <td>0.285048</td>\n",
       "      <td>3509.302395</td>\n",
       "      <td>30.551824</td>\n",
       "      <td>1.0</td>\n",
       "      <td>12.072684</td>\n",
       "      <td>5.525453</td>\n",
       "      <td>...</td>\n",
       "      <td>0.0</td>\n",
       "      <td>0.0</td>\n",
       "      <td>0.0</td>\n",
       "      <td>0.0</td>\n",
       "      <td>0.0</td>\n",
       "      <td>0.0</td>\n",
       "      <td>0.0</td>\n",
       "      <td>0.0</td>\n",
       "      <td>0.0</td>\n",
       "      <td>0.0</td>\n",
       "    </tr>\n",
       "    <tr>\n",
       "      <th>2</th>\n",
       "      <td>1</td>\n",
       "      <td>2022</td>\n",
       "      <td>12</td>\n",
       "      <td>334.0</td>\n",
       "      <td>0.285048</td>\n",
       "      <td>3509.302395</td>\n",
       "      <td>30.551824</td>\n",
       "      <td>3.0</td>\n",
       "      <td>12.052778</td>\n",
       "      <td>6.163315</td>\n",
       "      <td>...</td>\n",
       "      <td>0.0</td>\n",
       "      <td>0.0</td>\n",
       "      <td>0.0</td>\n",
       "      <td>0.0</td>\n",
       "      <td>0.0</td>\n",
       "      <td>0.0</td>\n",
       "      <td>0.0</td>\n",
       "      <td>0.0</td>\n",
       "      <td>0.0</td>\n",
       "      <td>0.0</td>\n",
       "    </tr>\n",
       "    <tr>\n",
       "      <th>3</th>\n",
       "      <td>1</td>\n",
       "      <td>2022</td>\n",
       "      <td>12</td>\n",
       "      <td>334.0</td>\n",
       "      <td>0.285048</td>\n",
       "      <td>3509.302395</td>\n",
       "      <td>30.551824</td>\n",
       "      <td>2.0</td>\n",
       "      <td>17.494719</td>\n",
       "      <td>11.359308</td>\n",
       "      <td>...</td>\n",
       "      <td>0.0</td>\n",
       "      <td>0.0</td>\n",
       "      <td>0.0</td>\n",
       "      <td>0.0</td>\n",
       "      <td>0.0</td>\n",
       "      <td>0.0</td>\n",
       "      <td>0.0</td>\n",
       "      <td>0.0</td>\n",
       "      <td>0.0</td>\n",
       "      <td>0.0</td>\n",
       "    </tr>\n",
       "    <tr>\n",
       "      <th>4</th>\n",
       "      <td>1</td>\n",
       "      <td>2022</td>\n",
       "      <td>12</td>\n",
       "      <td>334.0</td>\n",
       "      <td>0.285048</td>\n",
       "      <td>3509.302395</td>\n",
       "      <td>30.551824</td>\n",
       "      <td>7.0</td>\n",
       "      <td>13.078982</td>\n",
       "      <td>7.922416</td>\n",
       "      <td>...</td>\n",
       "      <td>0.0</td>\n",
       "      <td>0.0</td>\n",
       "      <td>0.0</td>\n",
       "      <td>0.0</td>\n",
       "      <td>0.0</td>\n",
       "      <td>0.0</td>\n",
       "      <td>0.0</td>\n",
       "      <td>0.0</td>\n",
       "      <td>0.0</td>\n",
       "      <td>0.0</td>\n",
       "    </tr>\n",
       "    <tr>\n",
       "      <th>...</th>\n",
       "      <td>...</td>\n",
       "      <td>...</td>\n",
       "      <td>...</td>\n",
       "      <td>...</td>\n",
       "      <td>...</td>\n",
       "      <td>...</td>\n",
       "      <td>...</td>\n",
       "      <td>...</td>\n",
       "      <td>...</td>\n",
       "      <td>...</td>\n",
       "      <td>...</td>\n",
       "      <td>...</td>\n",
       "      <td>...</td>\n",
       "      <td>...</td>\n",
       "      <td>...</td>\n",
       "      <td>...</td>\n",
       "      <td>...</td>\n",
       "      <td>...</td>\n",
       "      <td>...</td>\n",
       "      <td>...</td>\n",
       "      <td>...</td>\n",
       "    </tr>\n",
       "    <tr>\n",
       "      <th>2590</th>\n",
       "      <td>1</td>\n",
       "      <td>2023</td>\n",
       "      <td>3</td>\n",
       "      <td>42.0</td>\n",
       "      <td>0.096799</td>\n",
       "      <td>2949.214286</td>\n",
       "      <td>22.885897</td>\n",
       "      <td>5.0</td>\n",
       "      <td>13.918477</td>\n",
       "      <td>7.931788</td>\n",
       "      <td>...</td>\n",
       "      <td>0.0</td>\n",
       "      <td>0.0</td>\n",
       "      <td>0.0</td>\n",
       "      <td>0.0</td>\n",
       "      <td>0.0</td>\n",
       "      <td>0.0</td>\n",
       "      <td>0.0</td>\n",
       "      <td>0.0</td>\n",
       "      <td>0.0</td>\n",
       "      <td>0.0</td>\n",
       "    </tr>\n",
       "    <tr>\n",
       "      <th>2591</th>\n",
       "      <td>1</td>\n",
       "      <td>2023</td>\n",
       "      <td>3</td>\n",
       "      <td>42.0</td>\n",
       "      <td>0.096799</td>\n",
       "      <td>2949.214286</td>\n",
       "      <td>22.885897</td>\n",
       "      <td>3.0</td>\n",
       "      <td>13.393339</td>\n",
       "      <td>7.498316</td>\n",
       "      <td>...</td>\n",
       "      <td>0.0</td>\n",
       "      <td>0.0</td>\n",
       "      <td>0.0</td>\n",
       "      <td>0.0</td>\n",
       "      <td>0.0</td>\n",
       "      <td>0.0</td>\n",
       "      <td>0.0</td>\n",
       "      <td>0.0</td>\n",
       "      <td>0.0</td>\n",
       "      <td>0.0</td>\n",
       "    </tr>\n",
       "    <tr>\n",
       "      <th>2592</th>\n",
       "      <td>1</td>\n",
       "      <td>2023</td>\n",
       "      <td>3</td>\n",
       "      <td>42.0</td>\n",
       "      <td>0.096799</td>\n",
       "      <td>2949.214286</td>\n",
       "      <td>22.885897</td>\n",
       "      <td>5.0</td>\n",
       "      <td>12.293188</td>\n",
       "      <td>6.897099</td>\n",
       "      <td>...</td>\n",
       "      <td>0.0</td>\n",
       "      <td>0.0</td>\n",
       "      <td>0.0</td>\n",
       "      <td>0.0</td>\n",
       "      <td>0.0</td>\n",
       "      <td>0.0</td>\n",
       "      <td>0.0</td>\n",
       "      <td>0.0</td>\n",
       "      <td>0.0</td>\n",
       "      <td>0.0</td>\n",
       "    </tr>\n",
       "    <tr>\n",
       "      <th>2593</th>\n",
       "      <td>1</td>\n",
       "      <td>2023</td>\n",
       "      <td>3</td>\n",
       "      <td>42.0</td>\n",
       "      <td>0.096799</td>\n",
       "      <td>2949.214286</td>\n",
       "      <td>22.885897</td>\n",
       "      <td>5.0</td>\n",
       "      <td>12.206679</td>\n",
       "      <td>6.851820</td>\n",
       "      <td>...</td>\n",
       "      <td>0.0</td>\n",
       "      <td>0.0</td>\n",
       "      <td>0.0</td>\n",
       "      <td>0.0</td>\n",
       "      <td>0.0</td>\n",
       "      <td>0.0</td>\n",
       "      <td>0.0</td>\n",
       "      <td>0.0</td>\n",
       "      <td>0.0</td>\n",
       "      <td>0.0</td>\n",
       "    </tr>\n",
       "    <tr>\n",
       "      <th>2594</th>\n",
       "      <td>1</td>\n",
       "      <td>2023</td>\n",
       "      <td>3</td>\n",
       "      <td>7.0</td>\n",
       "      <td>0.134845</td>\n",
       "      <td>1180.142857</td>\n",
       "      <td>29.288309</td>\n",
       "      <td>5.0</td>\n",
       "      <td>14.042843</td>\n",
       "      <td>7.074286</td>\n",
       "      <td>...</td>\n",
       "      <td>0.0</td>\n",
       "      <td>0.0</td>\n",
       "      <td>0.0</td>\n",
       "      <td>0.0</td>\n",
       "      <td>0.0</td>\n",
       "      <td>0.0</td>\n",
       "      <td>1.0</td>\n",
       "      <td>0.0</td>\n",
       "      <td>0.0</td>\n",
       "      <td>0.0</td>\n",
       "    </tr>\n",
       "  </tbody>\n",
       "</table>\n",
       "<p>32590 rows × 26 columns</p>\n",
       "</div>"
      ],
      "text/plain": [
       "      is_weekday  year  month  category_trending_videos_last_7D  \\\n",
       "0              1  2022     12                             334.0   \n",
       "1              1  2022     12                             334.0   \n",
       "2              1  2022     12                             334.0   \n",
       "3              1  2022     12                             334.0   \n",
       "4              1  2022     12                             334.0   \n",
       "...          ...   ...    ...                               ...   \n",
       "2590           1  2023      3                              42.0   \n",
       "2591           1  2023      3                              42.0   \n",
       "2592           1  2023      3                              42.0   \n",
       "2593           1  2023      3                              42.0   \n",
       "2594           1  2023      3                               7.0   \n",
       "\n",
       "      category_avg_n_views_7D  category_avg_n_comments_7D  \\\n",
       "0                    0.285048                 3509.302395   \n",
       "1                    0.285048                 3509.302395   \n",
       "2                    0.285048                 3509.302395   \n",
       "3                    0.285048                 3509.302395   \n",
       "4                    0.285048                 3509.302395   \n",
       "...                       ...                         ...   \n",
       "2590                 0.096799                 2949.214286   \n",
       "2591                 0.096799                 2949.214286   \n",
       "2592                 0.096799                 2949.214286   \n",
       "2593                 0.096799                 2949.214286   \n",
       "2594                 0.134845                 1180.142857   \n",
       "\n",
       "      category_view_like_ratio_7D  channel_trending_videos_last_7D  \\\n",
       "0                       30.551824                              1.0   \n",
       "1                       30.551824                              1.0   \n",
       "2                       30.551824                              3.0   \n",
       "3                       30.551824                              2.0   \n",
       "4                       30.551824                              7.0   \n",
       "...                           ...                              ...   \n",
       "2590                    22.885897                              5.0   \n",
       "2591                    22.885897                              3.0   \n",
       "2592                    22.885897                              5.0   \n",
       "2593                    22.885897                              5.0   \n",
       "2594                    29.288309                              5.0   \n",
       "\n",
       "      log_channel_avg_n_views_7D  log_channel_avg_n_comments_7D  ...  \\\n",
       "0                      14.207982                       8.616314  ...   \n",
       "1                      12.072684                       5.525453  ...   \n",
       "2                      12.052778                       6.163315  ...   \n",
       "3                      17.494719                      11.359308  ...   \n",
       "4                      13.078982                       7.922416  ...   \n",
       "...                          ...                            ...  ...   \n",
       "2590                   13.918477                       7.931788  ...   \n",
       "2591                   13.393339                       7.498316  ...   \n",
       "2592                   12.293188                       6.897099  ...   \n",
       "2593                   12.206679                       6.851820  ...   \n",
       "2594                   14.042843                       7.074286  ...   \n",
       "\n",
       "      category_Film&Animation  category_Gaming  category_Howto&Style  \\\n",
       "0                         0.0              0.0                   0.0   \n",
       "1                         0.0              0.0                   0.0   \n",
       "2                         0.0              0.0                   0.0   \n",
       "3                         0.0              0.0                   0.0   \n",
       "4                         0.0              0.0                   0.0   \n",
       "...                       ...              ...                   ...   \n",
       "2590                      0.0              0.0                   0.0   \n",
       "2591                      0.0              0.0                   0.0   \n",
       "2592                      0.0              0.0                   0.0   \n",
       "2593                      0.0              0.0                   0.0   \n",
       "2594                      0.0              0.0                   0.0   \n",
       "\n",
       "      category_Music  category_News&Politics  category_People&Blogs  \\\n",
       "0                0.0                     0.0                    0.0   \n",
       "1                0.0                     0.0                    0.0   \n",
       "2                0.0                     0.0                    0.0   \n",
       "3                0.0                     0.0                    0.0   \n",
       "4                0.0                     0.0                    0.0   \n",
       "...              ...                     ...                    ...   \n",
       "2590             0.0                     0.0                    0.0   \n",
       "2591             0.0                     0.0                    0.0   \n",
       "2592             0.0                     0.0                    0.0   \n",
       "2593             0.0                     0.0                    0.0   \n",
       "2594             0.0                     0.0                    0.0   \n",
       "\n",
       "      category_Pets&Animals  category_Science&Technology  category_Sports  \\\n",
       "0                       0.0                          0.0              0.0   \n",
       "1                       0.0                          0.0              0.0   \n",
       "2                       0.0                          0.0              0.0   \n",
       "3                       0.0                          0.0              0.0   \n",
       "4                       0.0                          0.0              0.0   \n",
       "...                     ...                          ...              ...   \n",
       "2590                    0.0                          0.0              0.0   \n",
       "2591                    0.0                          0.0              0.0   \n",
       "2592                    0.0                          0.0              0.0   \n",
       "2593                    0.0                          0.0              0.0   \n",
       "2594                    1.0                          0.0              0.0   \n",
       "\n",
       "      category_Travel&Events  \n",
       "0                        0.0  \n",
       "1                        0.0  \n",
       "2                        0.0  \n",
       "3                        0.0  \n",
       "4                        0.0  \n",
       "...                      ...  \n",
       "2590                     0.0  \n",
       "2591                     0.0  \n",
       "2592                     0.0  \n",
       "2593                     0.0  \n",
       "2594                     0.0  \n",
       "\n",
       "[32590 rows x 26 columns]"
      ]
     },
     "execution_count": 13,
     "metadata": {},
     "output_type": "execute_result"
    }
   ],
   "source": []
  },
  {
   "cell_type": "code",
   "execution_count": null,
   "metadata": {},
   "outputs": [],
   "source": []
  },
  {
   "cell_type": "code",
   "execution_count": 7,
   "metadata": {},
   "outputs": [],
   "source": [
    "x_train = train.drop(columns=['log_view_count'])\n",
    "y_train = train['log_view_count'].to_numpy()\n",
    "\n",
    "x_cross_val = cross_val.drop(columns=['log_view_count'])\n",
    "y_cross_val = cross_val['log_view_count'].to_numpy()"
   ]
  },
  {
   "cell_type": "code",
   "execution_count": 8,
   "metadata": {},
   "outputs": [
    {
     "data": {
      "text/html": [
       "<style>#sk-container-id-1 {color: black;background-color: white;}#sk-container-id-1 pre{padding: 0;}#sk-container-id-1 div.sk-toggleable {background-color: white;}#sk-container-id-1 label.sk-toggleable__label {cursor: pointer;display: block;width: 100%;margin-bottom: 0;padding: 0.3em;box-sizing: border-box;text-align: center;}#sk-container-id-1 label.sk-toggleable__label-arrow:before {content: \"▸\";float: left;margin-right: 0.25em;color: #696969;}#sk-container-id-1 label.sk-toggleable__label-arrow:hover:before {color: black;}#sk-container-id-1 div.sk-estimator:hover label.sk-toggleable__label-arrow:before {color: black;}#sk-container-id-1 div.sk-toggleable__content {max-height: 0;max-width: 0;overflow: hidden;text-align: left;background-color: #f0f8ff;}#sk-container-id-1 div.sk-toggleable__content pre {margin: 0.2em;color: black;border-radius: 0.25em;background-color: #f0f8ff;}#sk-container-id-1 input.sk-toggleable__control:checked~div.sk-toggleable__content {max-height: 200px;max-width: 100%;overflow: auto;}#sk-container-id-1 input.sk-toggleable__control:checked~label.sk-toggleable__label-arrow:before {content: \"▾\";}#sk-container-id-1 div.sk-estimator input.sk-toggleable__control:checked~label.sk-toggleable__label {background-color: #d4ebff;}#sk-container-id-1 div.sk-label input.sk-toggleable__control:checked~label.sk-toggleable__label {background-color: #d4ebff;}#sk-container-id-1 input.sk-hidden--visually {border: 0;clip: rect(1px 1px 1px 1px);clip: rect(1px, 1px, 1px, 1px);height: 1px;margin: -1px;overflow: hidden;padding: 0;position: absolute;width: 1px;}#sk-container-id-1 div.sk-estimator {font-family: monospace;background-color: #f0f8ff;border: 1px dotted black;border-radius: 0.25em;box-sizing: border-box;margin-bottom: 0.5em;}#sk-container-id-1 div.sk-estimator:hover {background-color: #d4ebff;}#sk-container-id-1 div.sk-parallel-item::after {content: \"\";width: 100%;border-bottom: 1px solid gray;flex-grow: 1;}#sk-container-id-1 div.sk-label:hover label.sk-toggleable__label {background-color: #d4ebff;}#sk-container-id-1 div.sk-serial::before {content: \"\";position: absolute;border-left: 1px solid gray;box-sizing: border-box;top: 0;bottom: 0;left: 50%;z-index: 0;}#sk-container-id-1 div.sk-serial {display: flex;flex-direction: column;align-items: center;background-color: white;padding-right: 0.2em;padding-left: 0.2em;position: relative;}#sk-container-id-1 div.sk-item {position: relative;z-index: 1;}#sk-container-id-1 div.sk-parallel {display: flex;align-items: stretch;justify-content: center;background-color: white;position: relative;}#sk-container-id-1 div.sk-item::before, #sk-container-id-1 div.sk-parallel-item::before {content: \"\";position: absolute;border-left: 1px solid gray;box-sizing: border-box;top: 0;bottom: 0;left: 50%;z-index: -1;}#sk-container-id-1 div.sk-parallel-item {display: flex;flex-direction: column;z-index: 1;position: relative;background-color: white;}#sk-container-id-1 div.sk-parallel-item:first-child::after {align-self: flex-end;width: 50%;}#sk-container-id-1 div.sk-parallel-item:last-child::after {align-self: flex-start;width: 50%;}#sk-container-id-1 div.sk-parallel-item:only-child::after {width: 0;}#sk-container-id-1 div.sk-dashed-wrapped {border: 1px dashed gray;margin: 0 0.4em 0.5em 0.4em;box-sizing: border-box;padding-bottom: 0.4em;background-color: white;}#sk-container-id-1 div.sk-label label {font-family: monospace;font-weight: bold;display: inline-block;line-height: 1.2em;}#sk-container-id-1 div.sk-label-container {text-align: center;}#sk-container-id-1 div.sk-container {/* jupyter's `normalize.less` sets `[hidden] { display: none; }` but bootstrap.min.css set `[hidden] { display: none !important; }` so we also need the `!important` here to be able to override the default hidden behavior on the sphinx rendered scikit-learn.org. See: https://github.com/scikit-learn/scikit-learn/issues/21755 */display: inline-block !important;position: relative;}#sk-container-id-1 div.sk-text-repr-fallback {display: none;}</style><div id=\"sk-container-id-1\" class=\"sk-top-container\"><div class=\"sk-text-repr-fallback\"><pre>XGBRegressor(base_score=None, booster=None, callbacks=None,\n",
       "             colsample_bylevel=None, colsample_bynode=None,\n",
       "             colsample_bytree=None, early_stopping_rounds=None,\n",
       "             enable_categorical=False, eval_metric=None, feature_types=None,\n",
       "             gamma=None, gpu_id=None, grow_policy=None, importance_type=None,\n",
       "             interaction_constraints=None, learning_rate=None, max_bin=None,\n",
       "             max_cat_threshold=None, max_cat_to_onehot=None,\n",
       "             max_delta_step=None, max_depth=None, max_leaves=None,\n",
       "             min_child_weight=None, missing=nan, monotone_constraints=None,\n",
       "             n_estimators=100, n_jobs=None, num_parallel_tree=None,\n",
       "             predictor=None, random_state=None, ...)</pre><b>In a Jupyter environment, please rerun this cell to show the HTML representation or trust the notebook. <br />On GitHub, the HTML representation is unable to render, please try loading this page with nbviewer.org.</b></div><div class=\"sk-container\" hidden><div class=\"sk-item\"><div class=\"sk-estimator sk-toggleable\"><input class=\"sk-toggleable__control sk-hidden--visually\" id=\"sk-estimator-id-1\" type=\"checkbox\" checked><label for=\"sk-estimator-id-1\" class=\"sk-toggleable__label sk-toggleable__label-arrow\">XGBRegressor</label><div class=\"sk-toggleable__content\"><pre>XGBRegressor(base_score=None, booster=None, callbacks=None,\n",
       "             colsample_bylevel=None, colsample_bynode=None,\n",
       "             colsample_bytree=None, early_stopping_rounds=None,\n",
       "             enable_categorical=False, eval_metric=None, feature_types=None,\n",
       "             gamma=None, gpu_id=None, grow_policy=None, importance_type=None,\n",
       "             interaction_constraints=None, learning_rate=None, max_bin=None,\n",
       "             max_cat_threshold=None, max_cat_to_onehot=None,\n",
       "             max_delta_step=None, max_depth=None, max_leaves=None,\n",
       "             min_child_weight=None, missing=nan, monotone_constraints=None,\n",
       "             n_estimators=100, n_jobs=None, num_parallel_tree=None,\n",
       "             predictor=None, random_state=None, ...)</pre></div></div></div></div></div>"
      ],
      "text/plain": [
       "XGBRegressor(base_score=None, booster=None, callbacks=None,\n",
       "             colsample_bylevel=None, colsample_bynode=None,\n",
       "             colsample_bytree=None, early_stopping_rounds=None,\n",
       "             enable_categorical=False, eval_metric=None, feature_types=None,\n",
       "             gamma=None, gpu_id=None, grow_policy=None, importance_type=None,\n",
       "             interaction_constraints=None, learning_rate=None, max_bin=None,\n",
       "             max_cat_threshold=None, max_cat_to_onehot=None,\n",
       "             max_delta_step=None, max_depth=None, max_leaves=None,\n",
       "             min_child_weight=None, missing=nan, monotone_constraints=None,\n",
       "             n_estimators=100, n_jobs=None, num_parallel_tree=None,\n",
       "             predictor=None, random_state=None, ...)"
      ]
     },
     "execution_count": 8,
     "metadata": {},
     "output_type": "execute_result"
    }
   ],
   "source": [
    "model = XGBRegressor()\n",
    "model.fit(x_train, y_train)"
   ]
  },
  {
   "cell_type": "code",
   "execution_count": 12,
   "metadata": {},
   "outputs": [
    {
     "name": "stdout",
     "output_type": "stream",
     "text": [
      "0.15022756967617495\n",
      "0.27515523456073804\n"
     ]
    }
   ],
   "source": [
    "preds = model.predict(x_cross_val)\n",
    "print(mean_absolute_error(y_cross_val, preds))\n",
    "print(mean_squared_error(y_cross_val, preds, squared=False))"
   ]
  },
  {
   "cell_type": "code",
   "execution_count": 16,
   "metadata": {},
   "outputs": [
    {
     "data": {
      "text/plain": [
       "405669.79391183367"
      ]
     },
     "execution_count": 16,
     "metadata": {},
     "output_type": "execute_result"
    }
   ],
   "source": [
    "import numpy as np\n",
    "np.exp(model.predict(np.random.uniform(12,15, [1,25])).item())"
   ]
  },
  {
   "cell_type": "code",
   "execution_count": 5,
   "metadata": {},
   "outputs": [
    {
     "data": {
      "text/plain": [
       "'asd, wqweqw'"
      ]
     },
     "execution_count": 5,
     "metadata": {},
     "output_type": "execute_result"
    }
   ],
   "source": [
    "a = ['asd', 'wqweqw']\n",
    "', '.join(a)"
   ]
  },
  {
   "cell_type": "code",
   "execution_count": 1,
   "metadata": {},
   "outputs": [],
   "source": []
  },
  {
   "cell_type": "code",
   "execution_count": null,
   "metadata": {},
   "outputs": [],
   "source": []
  },
  {
   "cell_type": "code",
   "execution_count": null,
   "metadata": {},
   "outputs": [],
   "source": [
    "# from xgboost import plot_importance\n",
    "# import matplotlib.pyplot as plt\n",
    "# plt.style.use('fivethirtyeight')\n",
    "\n",
    "# fig, ax = plt.subplots(figsize=(4,6))\n",
    "# plot_importance(model, max_num_features=15, ax=ax)\n",
    "# plt.show()"
   ]
  },
  {
   "cell_type": "code",
   "execution_count": 1,
   "metadata": {},
   "outputs": [],
   "source": [
    "import neptune"
   ]
  },
  {
   "cell_type": "code",
   "execution_count": 2,
   "metadata": {},
   "outputs": [
    {
     "name": "stdout",
     "output_type": "stream",
     "text": [
      "https://new-ui.neptune.ai/jen-alchimowicz/yt-trending-mlops/e/YTTREN-7\n"
     ]
    }
   ],
   "source": [
    "run = neptune.init_run(\n",
    "    project=\"jen-alchimowicz/yt-trending-mlops\",\n",
    "    api_token=\"eyJhcGlfYWRkcmVzcyI6Imh0dHBzOi8vbmV3LXVpLm5lcHR1bmUuYWkiLCJhcGlfdXJsIjoiaHR0cHM6Ly9hcHAubmVwdHVuZS5haSIsImFwaV9rZXkiOiIwZDJkY2RiYy1mOWIzLTRlNDktYWFhNi0yMTlhNjU5MGM0ZjEifQ==\",\n",
    "    with_id=\"YTTREN-7\",\n",
    "    mode=\"read-only\",\n",
    ")"
   ]
  },
  {
   "cell_type": "code",
   "execution_count": 4,
   "metadata": {},
   "outputs": [],
   "source": [
    "run[\"training/pickled_model\"].download(destination=\"weights.pkl\")"
   ]
  },
  {
   "cell_type": "code",
   "execution_count": 4,
   "metadata": {},
   "outputs": [
    {
     "data": {
      "text/plain": [
       "{'alpha': 1.3288836213801396e-08,\n",
       " 'colsample_bytree': 0.8551845445649644,\n",
       " 'lambda': 4.644411003610672e-05,\n",
       " 'learning_rate': 0.17340840001366464,\n",
       " 'max_depth': 3,\n",
       " 'min_child_weight': 52,\n",
       " 'random_state': 1279,\n",
       " 'subsample': 0.6639125989553402}"
      ]
     },
     "execution_count": 4,
     "metadata": {},
     "output_type": "execute_result"
    }
   ],
   "source": [
    "run['best/params'].fetch()"
   ]
  },
  {
   "cell_type": "code",
   "execution_count": 7,
   "metadata": {},
   "outputs": [],
   "source": [
    "import pickle\n",
    "\n",
    "model = pickle.load(open(\"weights.pkl\", \"rb\"))"
   ]
  },
  {
   "cell_type": "code",
   "execution_count": 8,
   "metadata": {},
   "outputs": [
    {
     "data": {
      "text/plain": [
       "<xgboost.core.Booster at 0x7fa5493fdbb0>"
      ]
     },
     "execution_count": 8,
     "metadata": {},
     "output_type": "execute_result"
    }
   ],
   "source": [
    "model"
   ]
  },
  {
   "cell_type": "code",
   "execution_count": null,
   "metadata": {},
   "outputs": [],
   "source": []
  },
  {
   "cell_type": "code",
   "execution_count": 32,
   "metadata": {},
   "outputs": [
    {
     "name": "stdout",
     "output_type": "stream",
     "text": [
      "https://app.neptune.ai/jen-alchimowicz/yt-trending-mlops/m/YTTREN-XGB\n"
     ]
    }
   ],
   "source": [
    "models = neptune.init_model(\n",
    "    with_id=\"YTTREN-XGB\",\n",
    "    project=\"jen-alchimowicz/yt-trending-mlops\",\n",
    "    api_token=\"eyJhcGlfYWRkcmVzcyI6Imh0dHBzOi8vYXBwLm5lcHR1bmUuYWkiLCJhcGlfdXJsIjoiaHR0cHM6Ly9hcHAubmVwdHVuZS5haSIsImFwaV9rZXkiOiIwZDJkY2RiYy1mOWIzLTRlNDktYWFhNi0yMTlhNjU5MGM0ZjEifQ==\"\n",
    ")"
   ]
  },
  {
   "cell_type": "code",
   "execution_count": 33,
   "metadata": {},
   "outputs": [
    {
     "name": "stdout",
     "output_type": "stream",
     "text": [
      "https://app.neptune.ai/jen-alchimowicz/yt-trending-mlops/m/YTTREN-XGB/v/YTTREN-XGB-4\n"
     ]
    }
   ],
   "source": [
    "model_version = neptune.init_model_version(\n",
    "    model=\"YTTREN-XGB\",\n",
    "    project=\"jen-alchimowicz/yt-trending-mlops\",\n",
    "    api_token=\"eyJhcGlfYWRkcmVzcyI6Imh0dHBzOi8vYXBwLm5lcHR1bmUuYWkiLCJhcGlfdXJsIjoiaHR0cHM6Ly9hcHAubmVwdHVuZS5haSIsImFwaV9rZXkiOiIwZDJkY2RiYy1mOWIzLTRlNDktYWFhNi0yMTlhNjU5MGM0ZjEifQ==\", # your credentials\n",
    ")"
   ]
  },
  {
   "cell_type": "code",
   "execution_count": 34,
   "metadata": {},
   "outputs": [
    {
     "name": "stdout",
     "output_type": "stream",
     "text": [
      "Shutting down background jobs, please wait a moment...\n",
      "Done!\n",
      "All 0 operations synced, thanks for waiting!\n",
      "Explore the metadata in the Neptune app:\n",
      "https://app.neptune.ai/jen-alchimowicz/yt-trending-mlops/m/YTTREN-XGB/v/YTTREN-XGB-4/metadata\n"
     ]
    }
   ],
   "source": [
    "model_params = {\n",
    "    \"eta\": 0.5,\n",
    "    \"gamma\": 0.1,\n",
    "    \"max_depth\": 22,\n",
    "}\n",
    "\n",
    "model_version[\"model/parameters\"] = model_params\n",
    "model_version[\"run_id\"] = \"asd100\"\n",
    "\n",
    "model_version.change_stage(\"production\")\n",
    "model_version.stop()"
   ]
  },
  {
   "cell_type": "code",
   "execution_count": 35,
   "metadata": {},
   "outputs": [],
   "source": [
    "model_versions_df = model.fetch_model_versions_table().to_pandas()"
   ]
  },
  {
   "cell_type": "code",
   "execution_count": 52,
   "metadata": {},
   "outputs": [
    {
     "name": "stderr",
     "output_type": "stream",
     "text": [
      "/var/folders/nx/v9pnkzm57_g4h9v_7pm5n88r0000gn/T/ipykernel_99939/357010444.py:2: UserWarning: Boolean Series key will be reindexed to match DataFrame index.\n",
      "  model_versions_df\n"
     ]
    },
    {
     "name": "stdout",
     "output_type": "stream",
     "text": [
      "https://app.neptune.ai/jen-alchimowicz/yt-trending-mlops/m/YTTREN-XGB/v/YTTREN-XGB-3\n",
      "Shutting down background jobs, please wait a moment...\n",
      "Done!\n",
      "All 0 operations synced, thanks for waiting!\n",
      "Explore the metadata in the Neptune app:\n",
      "https://app.neptune.ai/jen-alchimowicz/yt-trending-mlops/m/YTTREN-XGB/v/YTTREN-XGB-3/metadata\n"
     ]
    }
   ],
   "source": [
    "old_versions_ids = (\n",
    "    model_versions_df\n",
    "    [model_versions_df[\"run_id\"] != \"asd100\"]\n",
    "    [model_versions_df[\"sys/stage\"] == \"production\"]\n",
    "    [\"sys/id\"]\n",
    "    .tolist()\n",
    ")\n",
    "\n",
    "for version_id in old_versions_ids:\n",
    "    model_version = neptune.init_model_version(\n",
    "        with_id=version_id,\n",
    "        project=\"jen-alchimowicz/yt-trending-mlops\",\n",
    "        api_token=\"eyJhcGlfYWRkcmVzcyI6Imh0dHBzOi8vYXBwLm5lcHR1bmUuYWkiLCJhcGlfdXJsIjoiaHR0cHM6Ly9hcHAubmVwdHVuZS5haSIsImFwaV9rZXkiOiIwZDJkY2RiYy1mOWIzLTRlNDktYWFhNi0yMTlhNjU5MGM0ZjEifQ==\",\n",
    "    )\n",
    "    model_version.change_stage(\"archived\")\n",
    "    model_version.stop()"
   ]
  },
  {
   "cell_type": "code",
   "execution_count": 50,
   "metadata": {},
   "outputs": [
    {
     "data": {
      "text/html": [
       "<div>\n",
       "<style scoped>\n",
       "    .dataframe tbody tr th:only-of-type {\n",
       "        vertical-align: middle;\n",
       "    }\n",
       "\n",
       "    .dataframe tbody tr th {\n",
       "        vertical-align: top;\n",
       "    }\n",
       "\n",
       "    .dataframe thead th {\n",
       "        text-align: right;\n",
       "    }\n",
       "</style>\n",
       "<table border=\"1\" class=\"dataframe\">\n",
       "  <thead>\n",
       "    <tr style=\"text-align: right;\">\n",
       "      <th></th>\n",
       "      <th>sys/creation_time</th>\n",
       "      <th>sys/id</th>\n",
       "      <th>sys/model_id</th>\n",
       "      <th>sys/modification_time</th>\n",
       "      <th>sys/monitoring_time</th>\n",
       "      <th>sys/owner</th>\n",
       "      <th>sys/ping_time</th>\n",
       "      <th>sys/running_time</th>\n",
       "      <th>sys/size</th>\n",
       "      <th>sys/stage</th>\n",
       "      <th>sys/state</th>\n",
       "      <th>sys/tags</th>\n",
       "      <th>sys/trashed</th>\n",
       "      <th>model/parameters/eta</th>\n",
       "      <th>model/parameters/gamma</th>\n",
       "      <th>model/parameters/max_depth</th>\n",
       "      <th>run_id</th>\n",
       "    </tr>\n",
       "  </thead>\n",
       "  <tbody>\n",
       "    <tr>\n",
       "      <th>0</th>\n",
       "      <td>2023-04-17 18:42:51.842000+00:00</td>\n",
       "      <td>YTTREN-XGB-4</td>\n",
       "      <td>YTTREN-XGB</td>\n",
       "      <td>2023-04-17 18:43:19.700000+00:00</td>\n",
       "      <td>1</td>\n",
       "      <td>jen-alchimowicz</td>\n",
       "      <td>2023-04-17 18:43:19.700000+00:00</td>\n",
       "      <td>27.856</td>\n",
       "      <td>136.0</td>\n",
       "      <td>production</td>\n",
       "      <td>Inactive</td>\n",
       "      <td></td>\n",
       "      <td>False</td>\n",
       "      <td>0.5</td>\n",
       "      <td>0.1000</td>\n",
       "      <td>22</td>\n",
       "      <td>asd100</td>\n",
       "    </tr>\n",
       "    <tr>\n",
       "      <th>1</th>\n",
       "      <td>2023-04-17 18:38:53.399000+00:00</td>\n",
       "      <td>YTTREN-XGB-3</td>\n",
       "      <td>YTTREN-XGB</td>\n",
       "      <td>2023-04-17 18:39:07.792000+00:00</td>\n",
       "      <td>1</td>\n",
       "      <td>jen-alchimowicz</td>\n",
       "      <td>2023-04-17 18:39:07.792000+00:00</td>\n",
       "      <td>14.392</td>\n",
       "      <td>135.0</td>\n",
       "      <td>production</td>\n",
       "      <td>Inactive</td>\n",
       "      <td></td>\n",
       "      <td>False</td>\n",
       "      <td>0.5</td>\n",
       "      <td>0.1000</td>\n",
       "      <td>22</td>\n",
       "      <td>asd22</td>\n",
       "    </tr>\n",
       "    <tr>\n",
       "      <th>2</th>\n",
       "      <td>2023-04-17 18:29:46.061000+00:00</td>\n",
       "      <td>YTTREN-XGB-2</td>\n",
       "      <td>YTTREN-XGB</td>\n",
       "      <td>2023-04-17 18:29:57.739000+00:00</td>\n",
       "      <td>1</td>\n",
       "      <td>jen-alchimowicz</td>\n",
       "      <td>2023-04-17 18:29:57.739000+00:00</td>\n",
       "      <td>11.677</td>\n",
       "      <td>129.0</td>\n",
       "      <td>none</td>\n",
       "      <td>Inactive</td>\n",
       "      <td></td>\n",
       "      <td>False</td>\n",
       "      <td>0.5</td>\n",
       "      <td>0.1000</td>\n",
       "      <td>22</td>\n",
       "      <td>asd10</td>\n",
       "    </tr>\n",
       "    <tr>\n",
       "      <th>3</th>\n",
       "      <td>2023-04-17 18:27:30.118000+00:00</td>\n",
       "      <td>YTTREN-XGB-1</td>\n",
       "      <td>YTTREN-XGB</td>\n",
       "      <td>2023-04-17 18:28:20.404000+00:00</td>\n",
       "      <td>1</td>\n",
       "      <td>jen-alchimowicz</td>\n",
       "      <td>2023-04-17 18:28:30.811000+00:00</td>\n",
       "      <td>60.690</td>\n",
       "      <td>130.0</td>\n",
       "      <td>none</td>\n",
       "      <td>Inactive</td>\n",
       "      <td></td>\n",
       "      <td>False</td>\n",
       "      <td>0.3</td>\n",
       "      <td>0.0001</td>\n",
       "      <td>2</td>\n",
       "      <td>asd2</td>\n",
       "    </tr>\n",
       "  </tbody>\n",
       "</table>\n",
       "</div>"
      ],
      "text/plain": [
       "                 sys/creation_time        sys/id sys/model_id  \\\n",
       "0 2023-04-17 18:42:51.842000+00:00  YTTREN-XGB-4   YTTREN-XGB   \n",
       "1 2023-04-17 18:38:53.399000+00:00  YTTREN-XGB-3   YTTREN-XGB   \n",
       "2 2023-04-17 18:29:46.061000+00:00  YTTREN-XGB-2   YTTREN-XGB   \n",
       "3 2023-04-17 18:27:30.118000+00:00  YTTREN-XGB-1   YTTREN-XGB   \n",
       "\n",
       "             sys/modification_time  sys/monitoring_time        sys/owner  \\\n",
       "0 2023-04-17 18:43:19.700000+00:00                    1  jen-alchimowicz   \n",
       "1 2023-04-17 18:39:07.792000+00:00                    1  jen-alchimowicz   \n",
       "2 2023-04-17 18:29:57.739000+00:00                    1  jen-alchimowicz   \n",
       "3 2023-04-17 18:28:20.404000+00:00                    1  jen-alchimowicz   \n",
       "\n",
       "                     sys/ping_time  sys/running_time  sys/size   sys/stage  \\\n",
       "0 2023-04-17 18:43:19.700000+00:00            27.856     136.0  production   \n",
       "1 2023-04-17 18:39:07.792000+00:00            14.392     135.0  production   \n",
       "2 2023-04-17 18:29:57.739000+00:00            11.677     129.0        none   \n",
       "3 2023-04-17 18:28:30.811000+00:00            60.690     130.0        none   \n",
       "\n",
       "  sys/state sys/tags  sys/trashed  model/parameters/eta  \\\n",
       "0  Inactive                 False                   0.5   \n",
       "1  Inactive                 False                   0.5   \n",
       "2  Inactive                 False                   0.5   \n",
       "3  Inactive                 False                   0.3   \n",
       "\n",
       "   model/parameters/gamma  model/parameters/max_depth  run_id  \n",
       "0                  0.1000                          22  asd100  \n",
       "1                  0.1000                          22   asd22  \n",
       "2                  0.1000                          22   asd10  \n",
       "3                  0.0001                           2    asd2  "
      ]
     },
     "execution_count": 50,
     "metadata": {},
     "output_type": "execute_result"
    }
   ],
   "source": [
    "model_versions_df"
   ]
  },
  {
   "cell_type": "code",
   "execution_count": null,
   "metadata": {},
   "outputs": [],
   "source": []
  },
  {
   "cell_type": "code",
   "execution_count": 1,
   "metadata": {},
   "outputs": [],
   "source": [
    "# Loading model from model registry"
   ]
  },
  {
   "cell_type": "code",
   "execution_count": 18,
   "metadata": {},
   "outputs": [],
   "source": [
    "import neptune\n",
    "import pickle"
   ]
  },
  {
   "cell_type": "code",
   "execution_count": 3,
   "metadata": {},
   "outputs": [
    {
     "name": "stdout",
     "output_type": "stream",
     "text": [
      "https://app.neptune.ai/jen-alchimowicz/yt-trending-mlops/m/YTTREN-XGB\n"
     ]
    }
   ],
   "source": [
    "models = neptune.init_model(\n",
    "    with_id=\"YTTREN-XGB\",\n",
    "    project=\"jen-alchimowicz/yt-trending-mlops\",\n",
    "    api_token=\"eyJhcGlfYWRkcmVzcyI6Imh0dHBzOi8vYXBwLm5lcHR1bmUuYWkiLCJhcGlfdXJsIjoiaHR0cHM6Ly9hcHAubmVwdHVuZS5haSIsImFwaV9rZXkiOiIwZDJkY2RiYy1mOWIzLTRlNDktYWFhNi0yMTlhNjU5MGM0ZjEifQ==\"\n",
    ")"
   ]
  },
  {
   "cell_type": "code",
   "execution_count": 4,
   "metadata": {},
   "outputs": [],
   "source": [
    "model_versions_df = models.fetch_model_versions_table().to_pandas()"
   ]
  },
  {
   "cell_type": "code",
   "execution_count": 15,
   "metadata": {},
   "outputs": [
    {
     "data": {
      "text/plain": [
       "'YTTREN-16'"
      ]
     },
     "execution_count": 15,
     "metadata": {},
     "output_type": "execute_result"
    }
   ],
   "source": [
    "production_model_run_id = (\n",
    "    model_versions_df\n",
    "    [model_versions_df[\"sys/stage\"] == \"production\"]\n",
    "    .reset_index(drop=True)\n",
    "    .loc[0, \"model/run_id\"]\n",
    ")\n",
    "production_model_run_id"
   ]
  },
  {
   "cell_type": "code",
   "execution_count": 16,
   "metadata": {},
   "outputs": [
    {
     "name": "stdout",
     "output_type": "stream",
     "text": [
      "https://new-ui.neptune.ai/jen-alchimowicz/yt-trending-mlops/e/YTTREN-16\n"
     ]
    }
   ],
   "source": [
    "run = neptune.init_run(\n",
    "    project=\"jen-alchimowicz/yt-trending-mlops\",\n",
    "    api_token=\"eyJhcGlfYWRkcmVzcyI6Imh0dHBzOi8vbmV3LXVpLm5lcHR1bmUuYWkiLCJhcGlfdXJsIjoiaHR0cHM6Ly9hcHAubmVwdHVuZS5haSIsImFwaV9rZXkiOiIwZDJkY2RiYy1mOWIzLTRlNDktYWFhNi0yMTlhNjU5MGM0ZjEifQ==\",\n",
    "    with_id=production_model_run_id,\n",
    "    mode=\"read-only\",\n",
    ")"
   ]
  },
  {
   "cell_type": "code",
   "execution_count": 17,
   "metadata": {},
   "outputs": [],
   "source": [
    "run[\"training/pickled_model\"].download(destination=\"../../checkpoints/xgb_model_2705.json\")"
   ]
  },
  {
   "cell_type": "code",
   "execution_count": 19,
   "metadata": {},
   "outputs": [],
   "source": [
    "model = pickle.load(open(\"../../checkpoints/xgb_model_2705.json\", \"rb\"))"
   ]
  },
  {
   "cell_type": "code",
   "execution_count": 21,
   "metadata": {},
   "outputs": [
    {
     "data": {
      "text/plain": [
       "xgboost.core.Booster"
      ]
     },
     "execution_count": 21,
     "metadata": {},
     "output_type": "execute_result"
    }
   ],
   "source": [
    "type(model)"
   ]
  },
  {
   "cell_type": "code",
   "execution_count": 24,
   "metadata": {},
   "outputs": [
    {
     "data": {
      "text/plain": [
       "['is_weekday',\n",
       " 'year',\n",
       " 'month',\n",
       " 'category_trending_videos_last_7D',\n",
       " 'category_avg_n_views_7D',\n",
       " 'category_avg_n_comments_7D',\n",
       " 'category_view_like_ratio_7D',\n",
       " 'channel_trending_videos_last_7D',\n",
       " 'log_channel_avg_n_views_7D',\n",
       " 'log_channel_avg_n_comments_7D',\n",
       " 'log_channel_view_like_ratio_7D',\n",
       " 'category_Autos&Vehicles',\n",
       " 'category_Comedy',\n",
       " 'category_Education',\n",
       " 'category_Entertainment',\n",
       " 'category_Film&Animation',\n",
       " 'category_Gaming',\n",
       " 'category_Howto&Style',\n",
       " 'category_Music',\n",
       " 'category_News&Politics',\n",
       " 'category_People&Blogs',\n",
       " 'category_Pets&Animals',\n",
       " 'category_Science&Technology',\n",
       " 'category_Sports',\n",
       " 'category_Travel&Events']"
      ]
     },
     "execution_count": 24,
     "metadata": {},
     "output_type": "execute_result"
    }
   ],
   "source": [
    "model.feature_names"
   ]
  },
  {
   "cell_type": "code",
   "execution_count": null,
   "metadata": {},
   "outputs": [],
   "source": []
  },
  {
   "cell_type": "code",
   "execution_count": null,
   "metadata": {},
   "outputs": [],
   "source": []
  },
  {
   "cell_type": "code",
   "execution_count": null,
   "metadata": {},
   "outputs": [],
   "source": []
  }
 ],
 "metadata": {
  "kernelspec": {
   "display_name": "venv",
   "language": "python",
   "name": "python3"
  },
  "language_info": {
   "codemirror_mode": {
    "name": "ipython",
    "version": 3
   },
   "file_extension": ".py",
   "mimetype": "text/x-python",
   "name": "python",
   "nbconvert_exporter": "python",
   "pygments_lexer": "ipython3",
   "version": "3.8.8"
  },
  "orig_nbformat": 4
 },
 "nbformat": 4,
 "nbformat_minor": 2
}
