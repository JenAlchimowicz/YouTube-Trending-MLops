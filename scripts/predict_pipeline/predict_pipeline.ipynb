{
 "cells": [
  {
   "cell_type": "code",
   "execution_count": 2,
   "metadata": {},
   "outputs": [],
   "source": [
    "import pandas as pd\n",
    "from xgboost import XGBRegressor\n",
    "from datetime import datetime\n",
    "import joblib\n",
    "import numpy as np"
   ]
  },
  {
   "cell_type": "code",
   "execution_count": 11,
   "metadata": {},
   "outputs": [],
   "source": [
    "model = XGBRegressor()\n",
    "model.load_model(\"../../checkpoints/xgb_model.json\")\n",
    "\n",
    "fs = pd.read_parquet(\"../../data/feature_store/tmp_feature_store.parquet\")\n",
    "df = pd.read_parquet(\"../../data/processed_data/train.parquet\").drop(columns=[\"log_view_count\"])\n",
    "\n",
    "ohe_category = joblib.load(\"../../artifacts/ohe_encoder_category.joblib\")"
   ]
  },
  {
   "cell_type": "code",
   "execution_count": 88,
   "metadata": {},
   "outputs": [],
   "source": [
    "# Explicit:\n",
    "channel = \"CGP Grey\"\n",
    "category = \"Education\"\n",
    "\n",
    "# Implicit:\n",
    "year = 2023\n",
    "month = 3\n",
    "day = 21\n",
    "\n",
    "today = pd.Series(pd.to_datetime(datetime.now().date()))"
   ]
  },
  {
   "cell_type": "code",
   "execution_count": 89,
   "metadata": {},
   "outputs": [
    {
     "data": {
      "text/plain": [
       "0    5\n",
       "dtype: int64"
      ]
     },
     "execution_count": 89,
     "metadata": {},
     "output_type": "execute_result"
    }
   ],
   "source": [
    "today.dt.year\n",
    "today.dt.month\n",
    "today.dt.day_of_week"
   ]
  },
  {
   "cell_type": "code",
   "execution_count": 90,
   "metadata": {},
   "outputs": [],
   "source": [
    "fs_channel = (\n",
    "    fs\n",
    "    .drop_duplicates(subset=['channelTitle'])\n",
    "    [[\"channelTitle\", \"channel_trending_videos_last_7D\", \"log_channel_avg_n_views_7D\", \"log_channel_avg_n_comments_7D\", \"log_channel_view_like_ratio_7D\"]]\n",
    ")\n",
    "fs_category = (\n",
    "    fs\n",
    "    .drop_duplicates(subset=['category'])\n",
    "    [[\"category\", \"category_trending_videos_last_7D\", \"category_avg_n_views_7D\", \"category_avg_n_comments_7D\", \"category_view_like_ratio_7D\"]]\n",
    ")"
   ]
  },
  {
   "cell_type": "code",
   "execution_count": 91,
   "metadata": {},
   "outputs": [],
   "source": [
    "category_encoded = pd.DataFrame(\n",
    "    ohe_category.transform(np.array(category).reshape(-1, 1)).toarray(),\n",
    "    columns=ohe_category.get_feature_names_out(),\n",
    "    )\n",
    "category_encoded.columns = [\n",
    "    (f\"category_\" + col.split(\"_\")[1]).replace(\" \", \"\") for col in category_encoded.columns\n",
    "    ]"
   ]
  },
  {
   "cell_type": "code",
   "execution_count": 92,
   "metadata": {},
   "outputs": [],
   "source": [
    "request = pd.concat([\n",
    "    fs_channel[fs_channel['channelTitle'] == channel].drop(columns=[\"channelTitle\"]).reset_index(drop=True),\n",
    "    fs_category[fs_category['category'] == category].drop(columns=[\"category\"]).reset_index(drop=True),\n",
    "    pd.DataFrame(today.dt.year, columns=[\"year\"]),\n",
    "    pd.DataFrame(today.dt.month, columns=[\"month\"]),\n",
    "    pd.DataFrame((today.dt.day_of_week <= 4).astype(int), columns=[\"is_weekday\"]),\n",
    "    category_encoded,\n",
    "    ], axis=1\n",
    ")\n",
    "\n",
    "request = request[list(df.columns)]"
   ]
  },
  {
   "cell_type": "code",
   "execution_count": 98,
   "metadata": {},
   "outputs": [
    {
     "name": "stdout",
     "output_type": "stream",
     "text": [
      "2788865.709626342\n"
     ]
    }
   ],
   "source": [
    "prediction = model.predict(request).item()\n",
    "prediction = np.exp(prediction)\n",
    "print(prediction)"
   ]
  }
 ],
 "metadata": {
  "kernelspec": {
   "display_name": "venv",
   "language": "python",
   "name": "python3"
  },
  "language_info": {
   "codemirror_mode": {
    "name": "ipython",
    "version": 3
   },
   "file_extension": ".py",
   "mimetype": "text/x-python",
   "name": "python",
   "nbconvert_exporter": "python",
   "pygments_lexer": "ipython3",
   "version": "3.8.8"
  },
  "orig_nbformat": 4
 },
 "nbformat": 4,
 "nbformat_minor": 2
}
